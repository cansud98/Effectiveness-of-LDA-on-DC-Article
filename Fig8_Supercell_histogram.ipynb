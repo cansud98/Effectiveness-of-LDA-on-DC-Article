{
 "cells": [
  {
   "cell_type": "code",
   "execution_count": 1,
   "id": "eb96d81f",
   "metadata": {},
   "outputs": [],
   "source": [
    "from netCDF4 import Dataset\n",
    "import matplotlib.pyplot as plt\n",
    "import numpy as np"
   ]
  },
  {
   "cell_type": "markdown",
   "id": "29b0f8db",
   "metadata": {},
   "source": [
    "# MODE outputs (LDA)"
   ]
  },
  {
   "cell_type": "code",
   "execution_count": 2,
   "id": "c9f9d6d0",
   "metadata": {},
   "outputs": [],
   "source": [
    "oku = Dataset('29May/rainfall/wLDA/mode_061000L_20120530_001000V_NAA_obj.nc','r')\n",
    "oku_wo = Dataset('29May/rainfall/woLDA/mode_061000L_20120530_001000V_NAA_obj.nc','r')"
   ]
  },
  {
   "cell_type": "code",
   "execution_count": 3,
   "id": "d9a5cfaf",
   "metadata": {},
   "outputs": [],
   "source": [
    "lat = oku['lat']\n",
    "lat = np.asarray(lat)\n",
    "\n",
    "lon = oku['lon']\n",
    "lon = np.asarray(lon)"
   ]
  },
  {
   "cell_type": "markdown",
   "id": "32d6c3c2",
   "metadata": {},
   "source": [
    "# Rainfall Fcst Objects"
   ]
  },
  {
   "cell_type": "code",
   "execution_count": 4,
   "id": "13f2d584",
   "metadata": {},
   "outputs": [],
   "source": [
    "#Read data from the wLDA MODE outputs\n",
    "fcst_obj_raw = oku['fcst_obj_raw']\n",
    "fcst_obj_raw = np.asarray(fcst_obj_raw)\n",
    "\n",
    "fcst_clus_id = oku['fcst_clus_id']\n",
    "fcst_clus_id = np.asarray(fcst_clus_id)\n",
    "\n",
    "#Create an array from the wLDA MODE outputs\n",
    "#Obj-1 // Identified object in OK-KS border (right)\n",
    "fcst_obj_1 = []\n",
    "for i in range(0,len(lat),1):\n",
    "    for j in range(0,len(lon),1):\n",
    "        if fcst_clus_id[i,j] == 1:\n",
    "            #print(fcst_obj_raw[i,j]/1000,\",\")\n",
    "            fcst_obj_1.append(fcst_obj_raw[i,j])#/1000)\n",
    "            \n",
    "fcst_obj_1 = np.asarray(fcst_obj_1)\n",
    "\n",
    "\n",
    "#Obj-2 // Identified object in OK-TX border\n",
    "fcst_obj_2 = []\n",
    "for i in range(0,len(lat),1):\n",
    "    for j in range(0,len(lon),1):\n",
    "        if fcst_clus_id[i,j] == 2:\n",
    "            #print(fcst_obj_raw[i,j]/1000,\",\")\n",
    "            fcst_obj_2.append(fcst_obj_raw[i,j])#/1000)\n",
    "            \n",
    "fcst_obj_2 = np.asarray(fcst_obj_2)\n",
    "\n",
    "\n",
    "#Obj-3 // Identified object in AR state\n",
    "fcst_obj_3 = []\n",
    "for i in range(0,len(lat),1):\n",
    "    for j in range(0,len(lon),1):\n",
    "        if fcst_clus_id[i,j] == 3:\n",
    "            #print(fcst_obj_raw[i,j]/1000,\",\")\n",
    "            fcst_obj_3.append(fcst_obj_raw[i,j])#/1000)\n",
    "            \n",
    "fcst_obj_3 = np.asarray(fcst_obj_3)\n",
    "\n",
    "\n",
    "#Obj-4 // Identified object in OK-KS border (left)\n",
    "fcst_obj_4 = []\n",
    "for i in range(0,len(lat),1):\n",
    "    for j in range(0,len(lon),1):\n",
    "        if fcst_clus_id[i,j] == 4:\n",
    "            #print(fcst_obj_raw[i,j]/1000,\",\")\n",
    "            fcst_obj_4.append(fcst_obj_raw[i,j])#/1000)\n",
    "            \n",
    "fcst_obj_4 = np.asarray(fcst_obj_4)"
   ]
  },
  {
   "cell_type": "code",
   "execution_count": 5,
   "id": "25680fef",
   "metadata": {},
   "outputs": [],
   "source": [
    "#Read data from the woLDA MODE outputs\n",
    "fcst_obj_raw_wo = oku_wo['fcst_obj_raw']\n",
    "fcst_obj_raw_wo = np.asarray(fcst_obj_raw_wo)\n",
    "\n",
    "fcst_clus_id_wo = oku_wo['fcst_clus_id']\n",
    "fcst_clus_id_wo = np.asarray(fcst_clus_id_wo)\n",
    "\n",
    "#Create an array from the woLDA MODE outputs\n",
    "#Obj-1 // Identified object in OK-KS border (right)\n",
    "fcst_obj_1_wo = []\n",
    "for i in range(0,len(lat),1):\n",
    "    for j in range(0,len(lon),1):\n",
    "        if fcst_clus_id_wo[i,j] == 1:\n",
    "            #print(fcst_obj_raw[i,j]/1000,\",\")\n",
    "            fcst_obj_1_wo.append(fcst_obj_raw_wo[i,j])#/1000)\n",
    "            \n",
    "fcst_obj_1_wo = np.asarray(fcst_obj_1_wo)\n",
    "\n",
    "\n",
    "#Obj-2 // Identified object in OK-TX border\n",
    "fcst_obj_2_wo = []\n",
    "for i in range(0,len(lat),1):\n",
    "    for j in range(0,len(lon),1):\n",
    "        if fcst_clus_id_wo[i,j] == 2:\n",
    "            #print(fcst_obj_raw[i,j]/1000,\",\")\n",
    "            fcst_obj_2_wo.append(fcst_obj_raw_wo[i,j])#/1000)\n",
    "            \n",
    "fcst_obj_2_wo = np.asarray(fcst_obj_2_wo)\n",
    "\n",
    "\n",
    "#Obj-3 // Identified object in AR state\n",
    "fcst_obj_3_wo = []\n",
    "for i in range(0,len(lat),1):\n",
    "    for j in range(0,len(lon),1):\n",
    "        if fcst_clus_id_wo[i,j] == 3:\n",
    "            #print(fcst_obj_raw[i,j]/1000,\",\")\n",
    "            fcst_obj_3_wo.append(fcst_obj_raw_wo[i,j])#/1000)\n",
    "            \n",
    "fcst_obj_3_wo = np.asarray(fcst_obj_3_wo)\n",
    "\n",
    "\n",
    "#Obj-4 // Identified object in OK-KS border (left)\n",
    "fcst_obj_4_wo = []\n",
    "for i in range(0,len(lat),1):\n",
    "    for j in range(0,len(lon),1):\n",
    "        if fcst_clus_id_wo[i,j] == 4:\n",
    "            #print(fcst_obj_raw[i,j]/1000,\",\")\n",
    "            fcst_obj_4_wo.append(fcst_obj_raw_wo[i,j])#/1000)\n",
    "            \n",
    "fcst_obj_4_wo = np.asarray(fcst_obj_4_wo)"
   ]
  },
  {
   "cell_type": "markdown",
   "id": "4c4b9cb5",
   "metadata": {},
   "source": [
    "# Rainfall Obs Objects"
   ]
  },
  {
   "cell_type": "code",
   "execution_count": 6,
   "id": "829c6bc8",
   "metadata": {},
   "outputs": [],
   "source": [
    "#Read data from the wLDA MODE outputs\n",
    "obs_obj_raw = oku['obs_obj_raw']\n",
    "obs_obj_raw = np.asarray(obs_obj_raw)\n",
    "\n",
    "obs_clus_id = oku['obs_clus_id']\n",
    "obs_clus_id = np.asarray(obs_clus_id)\n",
    "\n",
    "#Create an array from the wLDA MODE outputs\n",
    "#Obj-1 // Identified object in OK-KS border (right)\n",
    "obs_obj_1 = []\n",
    "for i in range(0,len(lat),1):\n",
    "    for j in range(0,len(lon),1):\n",
    "        if obs_clus_id[i,j] == 1:\n",
    "            #print(obs_obj_raw[i,j]/1000,\",\")\n",
    "            obs_obj_1.append(obs_obj_raw[i,j])#/1000)\n",
    "            \n",
    "obs_obj_1 = np.asarray(obs_obj_1)\n",
    "\n",
    "\n",
    "#Obj-2 // Identified object in OK-TX border\n",
    "obs_obj_2 = []\n",
    "for i in range(0,len(lat),1):\n",
    "    for j in range(0,len(lon),1):\n",
    "        if obs_clus_id[i,j] == 2:\n",
    "            #print(obs_obj_raw[i,j]/1000,\",\")\n",
    "            obs_obj_2.append(obs_obj_raw[i,j])#/1000)\n",
    "            \n",
    "obs_obj_2 = np.asarray(obs_obj_2)\n",
    "\n",
    "\n",
    "#Obj-3 // Identified object in AR state\n",
    "obs_obj_3 = []\n",
    "for i in range(0,len(lat),1):\n",
    "    for j in range(0,len(lon),1):\n",
    "        if obs_clus_id[i,j] == 3:\n",
    "            #print(obs_obj_raw[i,j]/1000,\",\")\n",
    "            obs_obj_3.append(obs_obj_raw[i,j])#/1000)\n",
    "            \n",
    "obs_obj_3 = np.asarray(obs_obj_3)\n",
    "\n",
    "\n",
    "#Obj-4 // Identified object in OK-KS border (left)\n",
    "obs_obj_4 = []\n",
    "for i in range(0,len(lat),1):\n",
    "    for j in range(0,len(lon),1):\n",
    "        if obs_clus_id[i,j] == 4:\n",
    "            #print(obs_obj_raw[i,j]/1000,\",\")\n",
    "            obs_obj_4.append(obs_obj_raw[i,j])#/1000)\n",
    "            \n",
    "obs_obj_4 = np.asarray(obs_obj_4)"
   ]
  },
  {
   "cell_type": "markdown",
   "id": "931d632e",
   "metadata": {
    "scrolled": true
   },
   "source": [
    "# Box Plot"
   ]
  },
  {
   "cell_type": "code",
   "execution_count": 7,
   "id": "581e81f6",
   "metadata": {},
   "outputs": [
    {
     "name": "stderr",
     "output_type": "stream",
     "text": [
      "/var/folders/6q/xnyw39p55t36lq81ys2l3b_80000gn/T/ipykernel_28258/953838626.py:18: VisibleDeprecationWarning: Creating an ndarray from ragged nested sequences (which is a list-or-tuple of lists-or-tuples-or ndarrays with different lengths or shapes) is deprecated. If you meant to do this, you must specify 'dtype=object' when creating the ndarray.\n",
      "  df = np.asarray(df)\n"
     ]
    },
    {
     "data": {
      "image/png": "[encoded data removed]",
      "text/plain": [
       "<Figure size 700x550 with 1 Axes>"
      ]
     },
     "metadata": {},
     "output_type": "display_data"
    }
   ],
   "source": [
    "# libraries & dataset\n",
    "import seaborn as sns\n",
    "import matplotlib.pyplot as plt\n",
    "sns.set(style=\"darkgrid\")\n",
    "plt.rcParams[\"figure.figsize\"] = [7.00, 5.50]\n",
    "\n",
    "#create your own color array\n",
    "my_colors = [\"#00ffff\",\"#7cfc00\",\"#ff0000\",\"#ff0000\",\"#00ffff\",\"#7cfc00\",\"#ff0000\",\"#ff0000\",\"#00ffff\",\"#7cfc00\",\"#ff0000\"]\n",
    "# add color array to set_palette\n",
    "# function of seaborn\n",
    "sns.set_palette( my_colors )\n",
    "\n",
    "space = []\n",
    "space = np.asarray(space)\n",
    "\n",
    "#sns.set(style=\"darkgrid\")\n",
    "df = [obs_obj_4, obs_obj_1, obs_obj_2 ,space, fcst_obj_4,fcst_obj_1, fcst_obj_2,space,fcst_obj_4_wo, fcst_obj_2_wo, fcst_obj_1_wo]\n",
    "df = np.asarray(df)\n",
    "\n",
    "objects = [\"Obs-A\",\"Obs-B\",\"Obs-C\",\" \",\"with LDA-A\",\"with LDA-B\",\"with LDA-C\",\" \",\"without LDA-A\",\"without LDA-B\",\"without LDA-C\"]\n",
    "\n",
    "ax = sns.boxplot(data=df, width=0.5, orient=\"h\")\n",
    "ax.set(xlabel='WRF-Chem Total precipitation (mm) / Stage-IV')\n",
    "ax.set_yticklabels(objects)\n",
    "plt.show()"
   ]
  },
  {
   "cell_type": "markdown",
   "id": "8b2a3df2",
   "metadata": {},
   "source": [
    "# MODE outputs (non-LDA)"
   ]
  },
  {
   "cell_type": "code",
   "execution_count": 8,
   "id": "10cd2268",
   "metadata": {},
   "outputs": [],
   "source": [
    "oku = Dataset('29May/CTH/wLDA/mode_000000L_20120529_233000V_NAA_obj.nc','r')\n",
    "oku_wo = Dataset('29May/CTH/woLDA/mode_000000L_20120529_233000V_NAA_obj.nc','r')"
   ]
  },
  {
   "cell_type": "code",
   "execution_count": 9,
   "id": "8891f4b5",
   "metadata": {},
   "outputs": [],
   "source": [
    "lat = oku['lat']\n",
    "lat = np.asarray(lat)\n",
    "\n",
    "lon = oku['lon']\n",
    "lon = np.asarray(lon)"
   ]
  },
  {
   "cell_type": "markdown",
   "id": "fe305199",
   "metadata": {},
   "source": [
    "# CTH Fcst Objects"
   ]
  },
  {
   "cell_type": "code",
   "execution_count": 10,
   "id": "4b28c2e2",
   "metadata": {},
   "outputs": [],
   "source": [
    "#Read data from the wLDA MODE outputs\n",
    "fcst_obj_raw = oku['fcst_obj_raw']\n",
    "fcst_obj_raw = np.asarray(fcst_obj_raw)\n",
    "\n",
    "fcst_clus_id = oku['fcst_clus_id']\n",
    "fcst_clus_id = np.asarray(fcst_clus_id)\n",
    "\n",
    "#Create an array from the wLDA MODE outputs\n",
    "#Obj-1 // Identified object in OK-TX border\n",
    "fcst_obj_1 = []\n",
    "for i in range(0,len(lat),1):\n",
    "    for j in range(0,len(lon),1):\n",
    "        if fcst_clus_id[i,j] == 1:\n",
    "            #print(fcst_obj_raw[i,j]/1000,\",\")\n",
    "            fcst_obj_1.append(fcst_obj_raw[i,j])#/1000)\n",
    "            \n",
    "fcst_obj_1 = np.asarray(fcst_obj_1)\n",
    "\n",
    "\n",
    "#Obj-2 // Identified object in OK-KS border (right)\n",
    "fcst_obj_2 = []\n",
    "for i in range(0,len(lat),1):\n",
    "    for j in range(0,len(lon),1):\n",
    "        if fcst_clus_id[i,j] == 2:\n",
    "            #print(fcst_obj_raw[i,j]/1000,\",\")\n",
    "            fcst_obj_2.append(fcst_obj_raw[i,j])#/1000)\n",
    "            \n",
    "fcst_obj_2 = np.asarray(fcst_obj_2)\n",
    "\n",
    "\n",
    "#Obj-3 // Identified object in OK-KS border (left)\n",
    "fcst_obj_3 = []\n",
    "for i in range(0,len(lat),1):\n",
    "    for j in range(0,len(lon),1):\n",
    "        if fcst_clus_id[i,j] == 3:\n",
    "            #print(fcst_obj_raw[i,j]/1000,\",\")\n",
    "            fcst_obj_3.append(fcst_obj_raw[i,j])#/1000)\n",
    "            \n",
    "fcst_obj_3 = np.asarray(fcst_obj_3)"
   ]
  },
  {
   "cell_type": "code",
   "execution_count": 11,
   "id": "715e4b9d",
   "metadata": {},
   "outputs": [],
   "source": [
    "#Read data from the woLDA MODE outputs\n",
    "fcst_obj_raw_wo = oku_wo['fcst_obj_raw']\n",
    "fcst_obj_raw_wo = np.asarray(fcst_obj_raw_wo)\n",
    "\n",
    "fcst_clus_id_wo = oku_wo['fcst_clus_id']\n",
    "fcst_clus_id_wo = np.asarray(fcst_clus_id_wo)\n",
    "\n",
    "#Create an array from the woLDA MODE outputs\n",
    "#Obj-1 // Identified object in OK-TX border\n",
    "fcst_obj_1_wo = []\n",
    "for i in range(0,len(lat),1):\n",
    "    for j in range(0,len(lon),1):\n",
    "        if fcst_clus_id_wo[i,j] == 1:\n",
    "            #print(fcst_obj_raw[i,j]/1000,\",\")\n",
    "            fcst_obj_1_wo.append(fcst_obj_raw_wo[i,j])#/1000)\n",
    "            \n",
    "fcst_obj_1_wo = np.asarray(fcst_obj_1_wo)\n",
    "\n",
    "\n",
    "#Obj-2 // Identified object in OK-KS border\n",
    "fcst_obj_2_wo = []\n",
    "for i in range(0,len(lat),1):\n",
    "    for j in range(0,len(lon),1):\n",
    "        if fcst_clus_id_wo[i,j] == 2:\n",
    "            #print(fcst_obj_raw[i,j]/1000,\",\")\n",
    "            fcst_obj_2_wo.append(fcst_obj_raw_wo[i,j])#/1000)\n",
    "            \n",
    "fcst_obj_2_wo = np.asarray(fcst_obj_2_wo)"
   ]
  },
  {
   "cell_type": "markdown",
   "id": "cbd90f46",
   "metadata": {},
   "source": [
    "# CTH Obs Objects"
   ]
  },
  {
   "cell_type": "code",
   "execution_count": 12,
   "id": "1b0942b8",
   "metadata": {},
   "outputs": [],
   "source": [
    "#Read data from the wLDA MODE outputs\n",
    "obs_obj_raw = oku['obs_obj_raw']\n",
    "obs_obj_raw = np.asarray(obs_obj_raw)\n",
    "\n",
    "obs_clus_id = oku['obs_clus_id']\n",
    "obs_clus_id = np.asarray(obs_clus_id)\n",
    "\n",
    "#Create an array from the wLDA MODE outputs\n",
    "#Obj-1 // Identified object in OK-TX border\n",
    "obs_obj_1 = []\n",
    "for i in range(0,len(lat),1):\n",
    "    for j in range(0,len(lon),1):\n",
    "        if obs_clus_id[i,j] == 1:\n",
    "            #print(fcst_obj_raw[i,j]/1000,\",\")\n",
    "            obs_obj_1.append(obs_obj_raw[i,j])#/1000)\n",
    "            \n",
    "obs_obj_1 = np.asarray(obs_obj_1)\n",
    "\n",
    "\n",
    "#Obj-2 // Identified object in OK-KS border (right)\n",
    "obs_obj_2 = []\n",
    "for i in range(0,len(lat),1):\n",
    "    for j in range(0,len(lon),1):\n",
    "        if obs_clus_id[i,j] == 2:\n",
    "            #print(fcst_obj_raw[i,j]/1000,\",\")\n",
    "            obs_obj_2.append(obs_obj_raw[i,j])#/1000)\n",
    "            \n",
    "obs_obj_2 = np.asarray(obs_obj_2)\n",
    "\n",
    "\n",
    "#Obj-3 // Identified object in OK-KS border (left)\n",
    "obs_obj_3 = []\n",
    "for i in range(0,len(lat),1):\n",
    "    for j in range(0,len(lon),1):\n",
    "        if obs_clus_id[i,j] == 3:\n",
    "            #print(fcst_obj_raw[i,j]/1000,\",\")\n",
    "            obs_obj_3.append(obs_obj_raw[i,j])#/1000)\n",
    "            \n",
    "obs_obj_3 = np.asarray(obs_obj_3)"
   ]
  },
  {
   "cell_type": "markdown",
   "id": "be5c0344",
   "metadata": {},
   "source": [
    "# Box Plot"
   ]
  },
  {
   "cell_type": "code",
   "execution_count": 13,
   "id": "da40f43c",
   "metadata": {},
   "outputs": [
    {
     "name": "stderr",
     "output_type": "stream",
     "text": [
      "/var/folders/6q/xnyw39p55t36lq81ys2l3b_80000gn/T/ipykernel_28258/779786995.py:18: VisibleDeprecationWarning: Creating an ndarray from ragged nested sequences (which is a list-or-tuple of lists-or-tuples-or ndarrays with different lengths or shapes) is deprecated. If you meant to do this, you must specify 'dtype=object' when creating the ndarray.\n",
      "  df = np.asarray(df)/1000\n"
     ]
    },
    {
     "data": {
      "image/png": "[encoded data removed]",
      "text/plain": [
       "<Figure size 700x550 with 1 Axes>"
      ]
     },
     "metadata": {},
     "output_type": "display_data"
    }
   ],
   "source": [
    "# libraries & dataset\n",
    "import seaborn as sns\n",
    "import matplotlib.pyplot as plt\n",
    "sns.set(style=\"darkgrid\")\n",
    "plt.rcParams[\"figure.figsize\"] = [7.00, 5.50]\n",
    "\n",
    "#create your own color array\n",
    "my_colors = [\"#00ffff\",\"#7cfc00\",\"#ff0000\",\"#ff0000\",\"#00ffff\",\"#7cfc00\",\"#ff0000\",\"#ff0000\",\"#00ffff\",\"#7cfc00\",\"#ff0000\"]\n",
    "# add color array to set_palette\n",
    "# function of seaborn\n",
    "sns.set_palette( my_colors )\n",
    "\n",
    "space = []\n",
    "space = np.asarray(space)\n",
    "\n",
    "#sns.set(style=\"darkgrid\")\n",
    "df = [obs_obj_3, obs_obj_2, obs_obj_1 ,space, fcst_obj_3, fcst_obj_2, fcst_obj_1, space, space, fcst_obj_2_wo, fcst_obj_1_wo]\n",
    "df = np.asarray(df)/1000\n",
    "\n",
    "objects = [\"Obs-A\",\"Obs-B\",\"Obs-C\",\" \",\"with LDA-A\",\"with LDA-B\",\"with LDA-C\",\" \",\"without LDA-A\",\"without LDA-B\",\"without LDA-C\"]\n",
    "\n",
    "ax = sns.boxplot(data=df, width=0.5, orient=\"h\")\n",
    "ax.set(xlabel='WRF-Chem Cloud Top Height (km) / GOES-13')\n",
    "ax.set_yticklabels(objects)\n",
    "plt.show()"
   ]
  }
 ],
 "metadata": {
  "kernelspec": {
   "display_name": "Python 3 (ipykernel)",
   "language": "python",
   "name": "python3"
  },
  "language_info": {
   "codemirror_mode": {
    "name": "ipython",
    "version": 3
   },
   "file_extension": ".py",
   "mimetype": "text/x-python",
   "name": "python",
   "nbconvert_exporter": "python",
   "pygments_lexer": "ipython3",
   "version": "3.9.16"
  }
 },
 "nbformat": 4,
 "nbformat_minor": 5
}
